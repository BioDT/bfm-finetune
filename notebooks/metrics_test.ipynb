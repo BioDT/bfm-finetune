{
 "cells": [
  {
   "cell_type": "code",
   "execution_count": null,
   "metadata": {},
   "outputs": [],
   "source": [
    "import torch\n",
    "import numpy as np\n",
    "import matplotlib.pyplot as plt\n",
    "from bfm_finetune.metrics import compute_ssim_metric, compute_spc"
   ]
  },
  {
   "cell_type": "code",
   "execution_count": null,
   "metadata": {},
   "outputs": [],
   "source": [
    "def create_image_with_black_spot(H, W, center, radius):\n",
    "    \"\"\"\n",
    "    Creates a 2D numpy array of shape [H, W] with a white background (value=1)\n",
    "    and a black circular spot (value=0) at the specified center and radius.\n",
    "    \"\"\"\n",
    "    img = np.ones((H, W), dtype=np.float32)\n",
    "    Y, X = np.ogrid[:H, :W]\n",
    "    dist = np.sqrt((X - center[0])**2 + (Y - center[1])**2)\n",
    "    mask = dist <= radius\n",
    "    img[mask] = 0.0\n",
    "    return img\n",
    "\n",
    "H, W = 152, 320\n",
    "radius = 20\n",
    "\n",
    "gt_center = (W / 2, H / 2)  # (cx, cy)\n",
    "gt_img = create_image_with_black_spot(H, W, gt_center, radius)\n",
    "\n",
    "# Prediction: Black spot shifted to the right by X pixels.\n",
    "pred_center = (W / 2 + 40, H / 2)\n",
    "pred_img = create_image_with_black_spot(H, W, pred_center, radius)\n",
    "\n",
    "gt_tensor = torch.tensor(gt_img).unsqueeze(0).unsqueeze(0).unsqueeze(0)   # shape: [1, 1, 1, H, W]\n",
    "pred_tensor = torch.tensor(pred_img).unsqueeze(0).unsqueeze(0).unsqueeze(0)  # shape: [1, 1, 1, H, W]"
   ]
  },
  {
   "cell_type": "code",
   "execution_count": null,
   "metadata": {},
   "outputs": [],
   "source": [
    "ssim_value = compute_ssim_metric(pred_tensor, gt_tensor)\n",
    "spc_value = compute_spc(pred_tensor, gt_tensor)\n",
    "\n",
    "print(\"SSIM between ground truth and prediction:\", ssim_value)\n",
    "print(\"SPC between ground truth and prediction:\", spc_value)\n",
    "\n",
    "plt.figure(figsize=(12, 6))\n",
    "\n",
    "plt.subplot(1, 2, 1)\n",
    "plt.imshow(gt_img, cmap='gray')\n",
    "plt.title(\"Ground Truth (Black Spot at Center)\")\n",
    "plt.axis(\"off\")\n",
    "\n",
    "plt.subplot(1, 2, 2)\n",
    "plt.imshow(pred_img, cmap='gray')\n",
    "plt.title(\"Prediction (Black Spot shifted Right)\")\n",
    "plt.axis(\"off\")\n",
    "\n",
    "plt.show()"
   ]
  }
 ],
 "metadata": {
  "kernelspec": {
   "display_name": "venv",
   "language": "python",
   "name": "python3"
  },
  "language_info": {
   "codemirror_mode": {
    "name": "ipython",
    "version": 3
   },
   "file_extension": ".py",
   "mimetype": "text/x-python",
   "name": "python",
   "nbconvert_exporter": "python",
   "pygments_lexer": "ipython3",
   "version": "3.12.3"
  }
 },
 "nbformat": 4,
 "nbformat_minor": 2
}
