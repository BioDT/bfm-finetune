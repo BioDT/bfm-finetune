{
 "cells": [
  {
   "cell_type": "code",
   "execution_count": null,
   "metadata": {},
   "outputs": [],
   "source": [
    "import plotly.graph_objects as go\n",
    "import torch\n",
    "import numpy as np\n",
    "from torch.utils.data import DataLoader\n",
    "from pathlib import Path\n",
    "\n",
    "from bfm_finetune.dataloaders.geolifeclef_species import utils as geolife_utils\n",
    "from bfm_finetune.plots_v2 import plot_eval\n",
    "from bfm_finetune.dataloaders.geolifeclef_species.dataloader import (\n",
    "    GeoLifeCLEFSpeciesDataset,\n",
    ")\n",
    "from bfm_finetune.dataloaders.dataloader_utils import custom_collate_fn"
   ]
  },
  {
   "cell_type": "code",
   "execution_count": null,
   "metadata": {},
   "outputs": [],
   "source": [
    "fpath = geolife_utils.aurorashape_species_location / \"train\" / \"yearly_species_2017-2018.pt\"\n",
    "data = torch.load(fpath, map_location=\"cpu\", weights_only=True)"
   ]
  },
  {
   "cell_type": "code",
   "execution_count": null,
   "metadata": {},
   "outputs": [],
   "source": [
    "species_distribution = data[\"species_distribution\"].numpy()\n",
    "print(species_distribution.shape)\n",
    "print(data[\"metadata\"][\"lat\"])\n",
    "print(data[\"metadata\"][\"lon\"])"
   ]
  },
  {
   "cell_type": "code",
   "execution_count": null,
   "metadata": {},
   "outputs": [],
   "source": [
    "# take one timestep and one species\n",
    "matrix = species_distribution[1, 0, :, :]\n",
    "# raw heatmap, no roll\n",
    "# just flip north above\n",
    "matrix = np.flip(matrix, axis=0)\n",
    "fig = go.Figure(data=go.Heatmap(\n",
    "                    z=matrix))\n",
    "fig.show()"
   ]
  },
  {
   "cell_type": "markdown",
   "metadata": {},
   "source": [
    "# negative_lon_mode"
   ]
  },
  {
   "cell_type": "code",
   "execution_count": null,
   "metadata": {},
   "outputs": [],
   "source": [
    "train_dataset = GeoLifeCLEFSpeciesDataset(num_species=500, mode=\"train\", negative_lon_mode=\"ignore\")\n",
    "train_dataloader = DataLoader(\n",
    "        train_dataset,\n",
    "        batch_size=1,\n",
    "        shuffle=False,\n",
    "        collate_fn=custom_collate_fn,\n",
    "        num_workers=1,\n",
    "    )\n",
    "batch = list(train_dataloader)[2][\"batch\"]\n",
    "plot_eval(batch, None, Path(\".\"), n_species_to_plot=1, save=False)"
   ]
  },
  {
   "cell_type": "code",
   "execution_count": null,
   "metadata": {},
   "outputs": [],
   "source": [
    "train_dataset = GeoLifeCLEFSpeciesDataset(num_species=500, mode=\"train\", negative_lon_mode=\"exclude\")\n",
    "train_dataloader = DataLoader(\n",
    "        train_dataset,\n",
    "        batch_size=1,\n",
    "        shuffle=False,\n",
    "        collate_fn=custom_collate_fn,\n",
    "        num_workers=1,\n",
    "    )\n",
    "batch = list(train_dataloader)[2][\"batch\"]\n",
    "plot_eval(batch, None, Path(\".\"), n_species_to_plot=1, save=False)"
   ]
  },
  {
   "cell_type": "code",
   "execution_count": null,
   "metadata": {},
   "outputs": [],
   "source": [
    "train_dataset = GeoLifeCLEFSpeciesDataset(num_species=500, mode=\"train\", negative_lon_mode=\"roll\")\n",
    "train_dataloader = DataLoader(\n",
    "        train_dataset,\n",
    "        batch_size=1,\n",
    "        shuffle=False,\n",
    "        collate_fn=custom_collate_fn,\n",
    "        num_workers=1,\n",
    "    )\n",
    "batch = list(train_dataloader)[2][\"batch\"]\n",
    "plot_eval(batch, None, Path(\".\"), n_species_to_plot=1, save=False)"
   ]
  },
  {
   "cell_type": "code",
   "execution_count": null,
   "metadata": {},
   "outputs": [],
   "source": [
    "train_dataset = GeoLifeCLEFSpeciesDataset(num_species=500, mode=\"train\", negative_lon_mode=\"translate\")\n",
    "train_dataloader = DataLoader(\n",
    "        train_dataset,\n",
    "        batch_size=1,\n",
    "        shuffle=False,\n",
    "        collate_fn=custom_collate_fn,\n",
    "        num_workers=1,\n",
    "    )\n",
    "batch = list(train_dataloader)[2][\"batch\"]\n",
    "plot_eval(batch, None, Path(\".\"), n_species_to_plot=1, save=False)"
   ]
  }
 ],
 "metadata": {
  "kernelspec": {
   "display_name": "venv",
   "language": "python",
   "name": "python3"
  },
  "language_info": {
   "codemirror_mode": {
    "name": "ipython",
    "version": 3
   },
   "file_extension": ".py",
   "mimetype": "text/x-python",
   "name": "python",
   "nbconvert_exporter": "python",
   "pygments_lexer": "ipython3",
   "version": "3.12.3"
  }
 },
 "nbformat": 4,
 "nbformat_minor": 2
}
