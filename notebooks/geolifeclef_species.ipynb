{
 "cells": [
  {
   "cell_type": "code",
   "execution_count": 1,
   "metadata": {},
   "outputs": [],
   "source": [
    "import importlib\n",
    "from glob import glob\n",
    "from pathlib import Path\n",
    "\n",
    "import numpy as np\n",
    "import pandas as pd\n",
    "from tqdm import tqdm\n",
    "\n",
    "from bfm_finetune import plots\n",
    "from bfm_finetune.utils import (\n",
    "    aggregate_into_latlon_grid,\n",
    "    get_lat_lon_ranges,\n",
    "    unroll_matrix_into_df,\n",
    ")"
   ]
  },
  {
   "cell_type": "code",
   "execution_count": 2,
   "metadata": {},
   "outputs": [],
   "source": [
    "# finetune_location = Path(\n",
    "#     \"/projects/prjs1134/data/projects/biodt/storage/finetune\"\n",
    "# )  # snellius\n",
    "finetune_location = Path(\"../data/finetune\")  # local\n",
    "geolifeclef_location = finetune_location / \"geolifeclef24\"\n",
    "\n",
    "# https://lab.plantnet.org/seafile/d/bdb829337aa44a9489f6/files/?p=%2FPresenceAbsenceSurveys%2FReadMe.txt\n",
    "# presence-absence: in europe\n",
    "pa_path = geolifeclef_location / \"GLC24_PA_metadata_train.csv\""
   ]
  },
  {
   "cell_type": "code",
   "execution_count": null,
   "metadata": {},
   "outputs": [],
   "source": [
    "df = pd.read_csv(pa_path)\n",
    "# 1483637\n",
    "print(len(df))\n",
    "# ['lon', 'lat', 'year', 'geoUncertaintyInM', 'areaInM2', 'region', 'country', 'speciesId', 'surveyId']\n",
    "print(df.columns)\n",
    "df[\"speciesId\"].unique()  # 5016 species\n",
    "df[\"surveyId\"].unique()  # 88987 different surveys\n",
    "\n",
    "# one survey:\n",
    "df[df[\"surveyId\"] == 212]\n",
    "# 15 rows (15 different species are present, the other ones are absent?)\n",
    "\n",
    "# one species?\n",
    "df[df[\"speciesId\"] == 6874.0]  # 924 rows: indicating where it appears (no time filter)"
   ]
  },
  {
   "cell_type": "code",
   "execution_count": 4,
   "metadata": {},
   "outputs": [],
   "source": [
    "step = 0.25\n",
    "lat_range, lon_range = get_lat_lon_ranges(lat_step=step, lon_step=step)"
   ]
  },
  {
   "cell_type": "code",
   "execution_count": null,
   "metadata": {},
   "outputs": [],
   "source": [
    "df_selected = df[df[\"speciesId\"] == 6874.0]\n",
    "df_selected.groupby(\"year\").surveyId.count()\n",
    "# how many each species every year\n",
    "# 2017    177\n",
    "# 2018    247\n",
    "# 2019    128\n",
    "# 2020    189\n",
    "# 2021    183"
   ]
  },
  {
   "cell_type": "code",
   "execution_count": null,
   "metadata": {},
   "outputs": [],
   "source": [
    "years = sorted(df_selected[\"year\"].unique().tolist())\n",
    "all_dfs = []\n",
    "for year in tqdm(years, desc=\"years\"):\n",
    "    matrix = aggregate_into_latlon_grid(\n",
    "        df_selected[df_selected[\"year\"] == year],\n",
    "        lat_range=lat_range,\n",
    "        lon_range=lon_range,\n",
    "        step=step,\n",
    "    )\n",
    "    df_grid = unroll_matrix_into_df(\n",
    "        lat_range=lat_range, lon_range=lon_range, matrix=matrix\n",
    "    )\n",
    "    all_dfs.append(df_grid)\n",
    "\n",
    "if all_dfs:\n",
    "    final_df = all_dfs[0][[\"lat\", \"lon\"]]\n",
    "    for year, df_year in zip(years, all_dfs):\n",
    "        final_df[year] = df_year[\"value\"]\n",
    "\n",
    "    fig = plots.plot_df_latlon(df=final_df, value_keys=years, title=\"speciesId=6874\")\n",
    "    fig.show()"
   ]
  }
 ],
 "metadata": {
  "kernelspec": {
   "display_name": "venv",
   "language": "python",
   "name": "python3"
  },
  "language_info": {
   "codemirror_mode": {
    "name": "ipython",
    "version": 3
   },
   "file_extension": ".py",
   "mimetype": "text/x-python",
   "name": "python",
   "nbconvert_exporter": "python",
   "pygments_lexer": "ipython3",
   "version": "3.12.3"
  }
 },
 "nbformat": 4,
 "nbformat_minor": 2
}
