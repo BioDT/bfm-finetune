{
 "cells": [
  {
   "cell_type": "code",
   "execution_count": null,
   "metadata": {},
   "outputs": [],
   "source": [
    "import torch\n",
    "from torch.utils.data import DataLoader\n",
    "from pathlib import Path\n",
    "\n",
    "from aurora import Aurora\n",
    "\n",
    "from bfm_finetune.aurora_mod import AuroraFlex\n",
    "# from bfm_finetune.plots import plot_eval\n",
    "from bfm_finetune.plots_v2 import plot_eval\n",
    "from bfm_finetune.dataloaders.geolifeclef_species.dataloader import GeoLifeCLEFSpeciesDataset\n",
    "from bfm_finetune.dataloaders.dataloader_utils import custom_collate_fn\n",
    "from bfm_finetune.utils import load_checkpoint, seed_everything, load_config\n",
    "\n",
    "device = torch.device(\"cuda:2\" if torch.cuda.is_available() else \"cpu\")\n",
    "\n",
    "seed_everything(42)"
   ]
  },
  {
   "cell_type": "code",
   "execution_count": null,
   "metadata": {},
   "outputs": [],
   "source": [
    "base_model = Aurora(use_lora=False) # stabilise_level_agg=True\n",
    "base_model.load_checkpoint(\"microsoft/aurora\", \"aurora-0.25-pretrained.ckpt\") # strict=False\n",
    "atmos_levels = (50, 100, 150, 200, 250, 300, 400, 500, 600, 700, 850, 925, 1000)\n",
    "base_model.to(device)\n",
    "\n",
    "num_species = 500\n",
    "\n",
    "val_dataset = GeoLifeCLEFSpeciesDataset(num_species=num_species, mode=\"val\")\n",
    "val_dataloader = DataLoader(\n",
    "        val_dataset,\n",
    "        batch_size=1,\n",
    "        shuffle=False,\n",
    "        collate_fn=custom_collate_fn,\n",
    "        num_workers=1,\n",
    "    )\n",
    "\n",
    "lat_lon = val_dataset.get_lat_lon()"
   ]
  },
  {
   "cell_type": "code",
   "execution_count": null,
   "metadata": {},
   "outputs": [],
   "source": [
    "# PATH = \"/home/thanasis.trantas/github_projects/bfm-finetune/bfm_finetune/outputs/2025-04-03/13-11-19-0.04.loss/checkpoints\"\n",
    "PATH = \"..\"\n",
    "PATH = \"/home/martino.mensio/projects/bfm/bfm-finetune/outputs/2025-04-09/14-18-14/\" # no upscaling, only positive lon\n",
    "PATH = \"/home/martino.mensio/projects/bfm/bfm-finetune/outputs/2025-04-09/14-27-06/\" # with upscaling\n",
    "CHECKPOINT_PATH = Path(PATH) / \"checkpoints\"\n",
    "cfg = load_config(PATH)"
   ]
  },
  {
   "cell_type": "code",
   "execution_count": null,
   "metadata": {},
   "outputs": [],
   "source": [
    "model = AuroraFlex(base_model=base_model, in_channels=num_species, hidden_channels=160,\n",
    "                    out_channels=num_species, atmos_levels=atmos_levels, lat_lon=lat_lon,\n",
    "                    supersampling_cfg=cfg.model.supersampling)\n",
    "model.to(device)\n",
    "\n",
    "params_to_optimize = model.parameters()\n",
    "optimizer = torch.optim.AdamW(params_to_optimize, lr=1.0)"
   ]
  },
  {
   "cell_type": "code",
   "execution_count": null,
   "metadata": {},
   "outputs": [],
   "source": [
    "_, _ = load_checkpoint(model, optimizer, CHECKPOINT_PATH)"
   ]
  },
  {
   "cell_type": "code",
   "execution_count": null,
   "metadata": {},
   "outputs": [],
   "source": [
    "for sample in val_dataloader:\n",
    "    batch = sample[\"batch\"].to(device)\n",
    "    target = sample[\"target\"]\n",
    "    with torch.inference_mode():\n",
    "        prediction = model.forward(batch)\n",
    "        unnormalized_preds = val_dataset.scale_species_distribution(prediction.clone(), unnormalize=True)\n",
    "    plot_eval(\n",
    "        batch=batch,\n",
    "        prediction_species=unnormalized_preds,\n",
    "        out_dir=\"plots_dir\",\n",
    "        save=False,\n",
    "    )"
   ]
  }
 ],
 "metadata": {
  "kernelspec": {
   "display_name": "venv",
   "language": "python",
   "name": "python3"
  },
  "language_info": {
   "codemirror_mode": {
    "name": "ipython",
    "version": 3
   },
   "file_extension": ".py",
   "mimetype": "text/x-python",
   "name": "python",
   "nbconvert_exporter": "python",
   "pygments_lexer": "ipython3",
   "version": "3.12.3"
  }
 },
 "nbformat": 4,
 "nbformat_minor": 2
}
