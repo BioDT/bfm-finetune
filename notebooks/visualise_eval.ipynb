{
 "cells": [
  {
   "cell_type": "code",
   "execution_count": 3,
   "id": "40da900a",
   "metadata": {},
   "outputs": [],
   "source": [
    "import torch\n",
    "from torch.utils.data import DataLoader\n",
    "from pathlib import Path\n",
    "import numpy as np\n",
    "from aurora import Aurora\n",
    "\n",
    "from bfm_finetune.aurora_mod import AuroraFlex, AuroraRaw\n",
    "from bfm_finetune.plots_v2 import plot_eval\n",
    "from bfm_finetune.dataloaders.geolifeclef_species.dataloader import GeoLifeCLEFSpeciesDataset\n",
    "from bfm_finetune.dataloaders.dataloader_utils import custom_collate_fn\n",
    "from bfm_finetune.utils import load_checkpoint, seed_everything, load_config\n",
    "\n",
    "device = torch.device(\"cuda:2\" if torch.cuda.is_available() else \"cpu\")\n",
    "\n",
    "seed_everything(42)"
   ]
  },
  {
   "cell_type": "code",
   "execution_count": 2,
   "id": "c15d6ae8",
   "metadata": {},
   "outputs": [],
   "source": [
    "base_model = Aurora(use_lora=True) # stabilise_level_agg=True\n",
    "base_model.load_checkpoint(\"microsoft/aurora\", \"aurora-0.25-pretrained.ckpt\", strict=False) # strict=False\n",
    "atmos_levels = (50, 100, 150, 200, 250, 300, 400, 500, 600, 700, 850, 925, 1000)\n",
    "base_model.to(device)\n",
    "\n",
    "num_species = 500"
   ]
  },
  {
   "cell_type": "code",
   "execution_count": null,
   "id": "8cb6853f",
   "metadata": {},
   "outputs": [],
   "source": [
    "PATH = \"/home/thanasis.trantas/github_projects/bfm-finetune/outputs/2025-04-29/16-59-52\"\n",
    "CHECKPOINT_PATH = Path(PATH) / \"checkpoints\"\n",
    "cfg = load_config(PATH)"
   ]
  }
 ],
 "metadata": {
  "kernelspec": {
   "display_name": "venv",
   "language": "python",
   "name": "python3"
  },
  "language_info": {
   "codemirror_mode": {
    "name": "ipython",
    "version": 3
   },
   "file_extension": ".py",
   "mimetype": "text/x-python",
   "name": "python",
   "nbconvert_exporter": "python",
   "pygments_lexer": "ipython3",
   "version": "3.12.3"
  }
 },
 "nbformat": 4,
 "nbformat_minor": 5
}
